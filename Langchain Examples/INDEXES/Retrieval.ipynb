{
 "cells": [
  {
   "cell_type": "markdown",
   "id": "0689733d",
   "metadata": {},
   "source": [
    "# Retrieval"
   ]
  },
  {
   "cell_type": "markdown",
   "id": "ed2569c6",
   "metadata": {},
   "source": [
    "## Vectorstore retrieval\n"
   ]
  },
  {
   "cell_type": "code",
   "execution_count": 2,
   "id": "c18f8a7b-62af-403e-9877-18d1c2265b4f",
   "metadata": {
    "tags": []
   },
   "outputs": [
    {
     "name": "stdout",
     "output_type": "stream",
     "text": [
      "Requirement already satisfied: pypdf in c:\\users\\dell\\anaconda3\\lib\\site-packages (4.2.0)\n",
      "Requirement already satisfied: tiktoken in c:\\users\\dell\\anaconda3\\lib\\site-packages (0.6.0)\n",
      "Collecting faiss-cpu\n",
      "  Downloading faiss_cpu-1.8.0-cp311-cp311-win_amd64.whl.metadata (3.8 kB)\n",
      "Requirement already satisfied: regex>=2022.1.18 in c:\\users\\dell\\anaconda3\\lib\\site-packages (from tiktoken) (2023.10.3)\n",
      "Requirement already satisfied: requests>=2.26.0 in c:\\users\\dell\\anaconda3\\lib\\site-packages (from tiktoken) (2.31.0)\n",
      "Requirement already satisfied: numpy in c:\\users\\dell\\anaconda3\\lib\\site-packages (from faiss-cpu) (1.26.4)\n",
      "Requirement already satisfied: charset-normalizer<4,>=2 in c:\\users\\dell\\anaconda3\\lib\\site-packages (from requests>=2.26.0->tiktoken) (2.0.4)\n",
      "Requirement already satisfied: idna<4,>=2.5 in c:\\users\\dell\\anaconda3\\lib\\site-packages (from requests>=2.26.0->tiktoken) (3.4)\n",
      "Requirement already satisfied: urllib3<3,>=1.21.1 in c:\\users\\dell\\anaconda3\\lib\\site-packages (from requests>=2.26.0->tiktoken) (2.0.7)\n",
      "Requirement already satisfied: certifi>=2017.4.17 in c:\\users\\dell\\anaconda3\\lib\\site-packages (from requests>=2.26.0->tiktoken) (2024.2.2)\n",
      "Downloading faiss_cpu-1.8.0-cp311-cp311-win_amd64.whl (14.5 MB)\n",
      "   ---------------------------------------- 0.0/14.5 MB ? eta -:--:--\n",
      "   ---------------------------------------- 0.1/14.5 MB 1.9 MB/s eta 0:00:08\n",
      "    --------------------------------------- 0.2/14.5 MB 2.2 MB/s eta 0:00:07\n",
      "    --------------------------------------- 0.3/14.5 MB 2.2 MB/s eta 0:00:07\n",
      "   - -------------------------------------- 0.4/14.5 MB 2.3 MB/s eta 0:00:07\n",
      "   - -------------------------------------- 0.5/14.5 MB 2.2 MB/s eta 0:00:07\n",
      "   - -------------------------------------- 0.7/14.5 MB 2.5 MB/s eta 0:00:06\n",
      "   -- ------------------------------------- 0.9/14.5 MB 2.7 MB/s eta 0:00:06\n",
      "   -- ------------------------------------- 1.0/14.5 MB 2.8 MB/s eta 0:00:05\n",
      "   --- ------------------------------------ 1.2/14.5 MB 2.8 MB/s eta 0:00:05\n",
      "   --- ------------------------------------ 1.4/14.5 MB 3.0 MB/s eta 0:00:05\n",
      "   ---- ----------------------------------- 1.5/14.5 MB 3.0 MB/s eta 0:00:05\n",
      "   ---- ----------------------------------- 1.5/14.5 MB 2.7 MB/s eta 0:00:05\n",
      "   ---- ----------------------------------- 1.5/14.5 MB 2.5 MB/s eta 0:00:06\n",
      "   ---- ----------------------------------- 1.7/14.5 MB 2.6 MB/s eta 0:00:06\n",
      "   ----- ---------------------------------- 1.9/14.5 MB 2.6 MB/s eta 0:00:05\n",
      "   ----- ---------------------------------- 2.1/14.5 MB 2.8 MB/s eta 0:00:05\n",
      "   ------ --------------------------------- 2.3/14.5 MB 2.9 MB/s eta 0:00:05\n",
      "   ------- -------------------------------- 2.5/14.5 MB 3.0 MB/s eta 0:00:04\n",
      "   ------- -------------------------------- 2.8/14.5 MB 3.1 MB/s eta 0:00:04\n",
      "   -------- ------------------------------- 3.0/14.5 MB 3.2 MB/s eta 0:00:04\n",
      "   --------- ------------------------------ 3.3/14.5 MB 3.3 MB/s eta 0:00:04\n",
      "   ---------- ----------------------------- 3.7/14.5 MB 3.5 MB/s eta 0:00:04\n",
      "   ----------- ---------------------------- 4.0/14.5 MB 3.6 MB/s eta 0:00:03\n",
      "   ------------ --------------------------- 4.4/14.5 MB 3.8 MB/s eta 0:00:03\n",
      "   ------------- -------------------------- 4.8/14.5 MB 3.9 MB/s eta 0:00:03\n",
      "   ------------- -------------------------- 5.0/14.5 MB 3.9 MB/s eta 0:00:03\n",
      "   -------------- ------------------------- 5.4/14.5 MB 4.1 MB/s eta 0:00:03\n",
      "   --------------- ------------------------ 5.7/14.5 MB 4.2 MB/s eta 0:00:03\n",
      "   ---------------- ----------------------- 6.1/14.5 MB 4.3 MB/s eta 0:00:02\n",
      "   ----------------- ---------------------- 6.3/14.5 MB 4.3 MB/s eta 0:00:02\n",
      "   ------------------ --------------------- 6.6/14.5 MB 4.4 MB/s eta 0:00:02\n",
      "   ------------------- -------------------- 7.0/14.5 MB 4.5 MB/s eta 0:00:02\n",
      "   ------------------- -------------------- 7.2/14.5 MB 4.5 MB/s eta 0:00:02\n",
      "   -------------------- ------------------- 7.5/14.5 MB 4.6 MB/s eta 0:00:02\n",
      "   --------------------- ------------------ 7.9/14.5 MB 4.7 MB/s eta 0:00:02\n",
      "   ----------------------- ---------------- 8.3/14.5 MB 4.8 MB/s eta 0:00:02\n",
      "   ----------------------- ---------------- 8.7/14.5 MB 4.8 MB/s eta 0:00:02\n",
      "   ------------------------- -------------- 9.1/14.5 MB 4.9 MB/s eta 0:00:02\n",
      "   -------------------------- ------------- 9.5/14.5 MB 5.0 MB/s eta 0:00:01\n",
      "   --------------------------- ------------ 9.9/14.5 MB 5.1 MB/s eta 0:00:01\n",
      "   ---------------------------- ----------- 10.3/14.5 MB 5.2 MB/s eta 0:00:01\n",
      "   ----------------------------- ---------- 10.7/14.5 MB 5.6 MB/s eta 0:00:01\n",
      "   ------------------------------ --------- 11.2/14.5 MB 5.8 MB/s eta 0:00:01\n",
      "   -------------------------------- ------- 11.7/14.5 MB 6.5 MB/s eta 0:00:01\n",
      "   --------------------------------- ------ 12.2/14.5 MB 7.0 MB/s eta 0:00:01\n",
      "   ---------------------------------- ----- 12.4/14.5 MB 6.9 MB/s eta 0:00:01\n",
      "   ----------------------------------- ---- 13.0/14.5 MB 7.2 MB/s eta 0:00:01\n",
      "   ------------------------------------- -- 13.5/14.5 MB 7.4 MB/s eta 0:00:01\n",
      "   -------------------------------------- - 14.0/14.5 MB 7.6 MB/s eta 0:00:01\n",
      "   ---------------------------------------  14.4/14.5 MB 7.6 MB/s eta 0:00:01\n",
      "   ---------------------------------------  14.5/14.5 MB 7.8 MB/s eta 0:00:01\n",
      "   ---------------------------------------  14.5/14.5 MB 7.8 MB/s eta 0:00:01\n",
      "   ---------------------------------------  14.5/14.5 MB 7.8 MB/s eta 0:00:01\n",
      "   ---------------------------------------- 14.5/14.5 MB 6.9 MB/s eta 0:00:00\n",
      "Installing collected packages: faiss-cpu\n",
      "Successfully installed faiss-cpu-1.8.0\n"
     ]
    }
   ],
   "source": [
    " # !pip install lark\n",
    "# !pip install pypdf tiktoken faiss-cpu"
   ]
  },
  {
   "cell_type": "code",
   "execution_count": 3,
   "id": "fe368042",
   "metadata": {
    "tags": []
   },
   "outputs": [],
   "source": [
    "from langchain.document_loaders import PyPDFLoader\n",
    "from langchain.text_splitter import CharacterTextSplitter, RecursiveCharacterTextSplitter\n",
    "from langchain.vectorstores import FAISS\n",
    "from langchain.embeddings import HuggingFaceEmbeddings"
   ]
  },
  {
   "cell_type": "code",
   "execution_count": 6,
   "id": "db855648-93b7-4524-91a7-f668df6c94d7",
   "metadata": {},
   "outputs": [],
   "source": [
    "loader = PyPDFLoader(\"MachineLearning-Lecture01.pdf\")"
   ]
  },
  {
   "cell_type": "code",
   "execution_count": 8,
   "id": "6e42b055-c83d-43eb-8465-83725d6f89e4",
   "metadata": {},
   "outputs": [],
   "source": [
    "documents = loader.load()\n",
    "text_splitter = CharacterTextSplitter(chunk_size=1000, chunk_overlap=0)\n",
    "texts = text_splitter.split_documents(documents)\n",
    "# Initialize the HuggingFaceEmbeddings\n",
    "embeddings = HuggingFaceEmbeddings()\n",
    "db = FAISS.from_documents(texts, embeddings)"
   ]
  },
  {
   "cell_type": "code",
   "execution_count": 9,
   "id": "a0189dc5",
   "metadata": {
    "tags": []
   },
   "outputs": [
    {
     "data": {
      "text/plain": [
       "<langchain_community.vectorstores.faiss.FAISS at 0x1fb025a0890>"
      ]
     },
     "execution_count": 9,
     "metadata": {},
     "output_type": "execute_result"
    }
   ],
   "source": [
    "db"
   ]
  },
  {
   "cell_type": "code",
   "execution_count": 10,
   "id": "d1e45643",
   "metadata": {},
   "outputs": [],
   "source": [
    "# You can also specify search kwargs like k to use when doing retrieval.\n",
    "#retriever = db.as_retriever()\n",
    "retriever = db.as_retriever(search_kwargs={\"k\": 2})"
   ]
  },
  {
   "cell_type": "code",
   "execution_count": 11,
   "id": "3659e0f7",
   "metadata": {
    "tags": []
   },
   "outputs": [],
   "source": [
    "# You can also specify search kwargs like k to use when doing retrieval.\n",
    "#retriever = db.as_retriever()\n",
    "retriever = db.as_retriever(search_kwargs={\"k\": 2})"
   ]
  },
  {
   "cell_type": "code",
   "execution_count": 13,
   "id": "a807c758",
   "metadata": {
    "tags": []
   },
   "outputs": [
    {
     "name": "stdout",
     "output_type": "stream",
     "text": [
      "22\n"
     ]
    }
   ],
   "source": [
    "print(len(documents))"
   ]
  },
  {
   "cell_type": "markdown",
   "id": "5eab2217-139c-4210-aaf8-8d68fadf43d3",
   "metadata": {},
   "source": [
    "# Vectorstore"
   ]
  },
  {
   "cell_type": "code",
   "execution_count": 17,
   "id": "0dd4a177-947c-4a01-bc56-ee4fd4b30e65",
   "metadata": {},
   "outputs": [
    {
     "name": "stdout",
     "output_type": "stream",
     "text": [
      "You have 22 documents\n"
     ]
    }
   ],
   "source": [
    "print (f\"You have {len(texts)} documents\")"
   ]
  },
  {
   "cell_type": "code",
   "execution_count": 18,
   "id": "cfa00e7b-d68d-4a78-a649-ed98ebb5fafc",
   "metadata": {},
   "outputs": [],
   "source": [
    "embedding_list = embeddings.embed_documents([text.page_content for text in texts])"
   ]
  },
  {
   "cell_type": "code",
   "execution_count": 19,
   "id": "6137c0f1-0368-4321-aca5-020abd3deb7a",
   "metadata": {},
   "outputs": [
    {
     "name": "stdout",
     "output_type": "stream",
     "text": [
      "You have 22 embeddings\n",
      "Here's a sample of one: [0.021935876458883286, 0.016695791855454445, -0.04957612231373787]...\n"
     ]
    }
   ],
   "source": [
    "print (f\"You have {len(embedding_list)} embeddings\")\n",
    "print (f\"Here's a sample of one: {embedding_list[0][:3]}...\")"
   ]
  },
  {
   "cell_type": "code",
   "execution_count": null,
   "id": "fc5837d0-350b-48f8-b7cc-bad9e4a0c47a",
   "metadata": {},
   "outputs": [],
   "source": []
  }
 ],
 "metadata": {
  "kernelspec": {
   "display_name": "Python 3 (ipykernel)",
   "language": "python",
   "name": "python3"
  },
  "language_info": {
   "codemirror_mode": {
    "name": "ipython",
    "version": 3
   },
   "file_extension": ".py",
   "mimetype": "text/x-python",
   "name": "python",
   "nbconvert_exporter": "python",
   "pygments_lexer": "ipython3",
   "version": "3.11.7"
  }
 },
 "nbformat": 4,
 "nbformat_minor": 5
}
