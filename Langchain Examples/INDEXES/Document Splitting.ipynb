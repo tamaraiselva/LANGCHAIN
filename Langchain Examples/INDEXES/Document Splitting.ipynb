{
 "cells": [
  {
   "cell_type": "markdown",
   "id": "54464c13",
   "metadata": {},
   "source": [
    "# Loading Environment Variable"
   ]
  },
  {
   "cell_type": "code",
   "execution_count": 1,
   "id": "53e85bce",
   "metadata": {},
   "outputs": [],
   "source": [
    "from secret_key import hugging_facehub_key\n",
    "import os\n",
    "os.environ['HUGGINGFACEHUB_API_TOKEN'] = hugging_facehub_key"
   ]
  },
  {
   "cell_type": "code",
   "execution_count": 2,
   "id": "126562fb",
   "metadata": {},
   "outputs": [],
   "source": [
    "from langchain.text_splitter import CharacterTextSplitter"
   ]
  },
  {
   "cell_type": "code",
   "execution_count": 3,
   "id": "8dd9fc4f",
   "metadata": {},
   "outputs": [],
   "source": [
    "chunk_size =26\n",
    "chunk_overlap = 4"
   ]
  },
  {
   "cell_type": "code",
   "execution_count": 4,
   "id": "0e1e8518",
   "metadata": {},
   "outputs": [],
   "source": [
    "# Initialize the CharacterTextSplitter\n",
    "c_splitter = CharacterTextSplitter(\n",
    "    chunk_size=chunk_size,\n",
    "    chunk_overlap=chunk_overlap,\n",
    "    separator=' '  # Optional, if you want to split by a separator\n",
    ")"
   ]
  },
  {
   "cell_type": "code",
   "execution_count": 5,
   "id": "72b5fcf2",
   "metadata": {},
   "outputs": [],
   "source": [
    "# Define the text\n",
    "text = 'abcdefghijklmnopqrstuvwxyzabcdefg'"
   ]
  },
  {
   "cell_type": "code",
   "execution_count": 6,
   "id": "534e7ff5",
   "metadata": {},
   "outputs": [],
   "source": [
    "# Split the text using the CharacterTextSplitter\n",
    "chunks = c_splitter.split_text(text)"
   ]
  },
  {
   "cell_type": "code",
   "execution_count": 7,
   "id": "98b531e1",
   "metadata": {},
   "outputs": [
    {
     "name": "stdout",
     "output_type": "stream",
     "text": [
      "['abcdefghijklmnopqrstuvwxyzabcdefg']\n"
     ]
    }
   ],
   "source": [
    "print(chunks)"
   ]
  },
  {
   "cell_type": "markdown",
   "id": "79e5a4ac",
   "metadata": {},
   "source": [
    "# Recursive splitting details"
   ]
  },
  {
   "cell_type": "code",
   "execution_count": 8,
   "id": "e814f98d",
   "metadata": {},
   "outputs": [],
   "source": [
    "from langchain.text_splitter import RecursiveCharacterTextSplitter, CharacterTextSplitter\n",
    "from langchain.document_loaders import PyPDFLoader, NotionDirectoryLoader"
   ]
  },
  {
   "cell_type": "code",
   "execution_count": 9,
   "id": "e49d5ff3",
   "metadata": {},
   "outputs": [],
   "source": [
    "# Define your text or load it from a document\n",
    "some_text = \"\"\"When writing documents, writers will use document structure to group content. \\\n",
    "This can convey to the reader, which idea's are related. For example, closely related ideas \\\n",
    "are in sentances. Similar ideas are in paragraphs. Paragraphs form a document. \\n\\n  \\\n",
    "Paragraphs are often delimited with a carriage return or two carriage returns. \\\n",
    "Carriage returns are the \"backslash n\" you see embedded in this string. \\\n",
    "Sentences have a period at the end, but also, have a space.\\\n",
    "and words are separated by space.\"\"\""
   ]
  },
  {
   "cell_type": "code",
   "execution_count": 10,
   "id": "d3f09825",
   "metadata": {},
   "outputs": [],
   "source": [
    "#some_text = \"\"\"Tamarai selvan\"\"\""
   ]
  },
  {
   "cell_type": "code",
   "execution_count": 11,
   "id": "12539c6f",
   "metadata": {},
   "outputs": [],
   "source": [
    "# Define your desired chunk size and overlap\n",
    "chunk_size = 450\n",
    "chunk_overlap = 0"
   ]
  },
  {
   "cell_type": "code",
   "execution_count": 12,
   "id": "ecb6b034",
   "metadata": {},
   "outputs": [],
   "source": [
    "# Initialize the RecursiveCharacterTextSplitter with appropriate separators\n",
    "r_splitter = RecursiveCharacterTextSplitter(\n",
    "    chunk_size=chunk_size,\n",
    "    chunk_overlap=chunk_overlap,\n",
    "    separators=[\"\\n\\n\", \"\\n\", \" \", \"\"]\n",
    ")"
   ]
  },
  {
   "cell_type": "code",
   "execution_count": 13,
   "id": "35be09ab",
   "metadata": {},
   "outputs": [],
   "source": [
    "# Split the text using RecursiveCharacterTextSplitter\n",
    "chunks = r_splitter.split_text(some_text)"
   ]
  },
  {
   "cell_type": "code",
   "execution_count": 14,
   "id": "aa4f3f3b",
   "metadata": {},
   "outputs": [],
   "source": [
    "# Optionally, you can define a CharacterTextSplitter for simpler text splitting\n",
    "c_splitter = CharacterTextSplitter(\n",
    "    separator=\"\\n\",  # Define your separator if needed\n",
    "    chunk_size=1000,  # Define your chunk size\n",
    "    chunk_overlap=150,  # Define your overlap\n",
    ")"
   ]
  },
  {
   "cell_type": "code",
   "execution_count": 15,
   "id": "8d4c69a5",
   "metadata": {},
   "outputs": [],
   "source": [
    "# Load documents from NotionDirectoryLoader\n",
    "loader = NotionDirectoryLoader(\"notion\")"
   ]
  },
  {
   "cell_type": "code",
   "execution_count": 16,
   "id": "214f9a1a",
   "metadata": {},
   "outputs": [],
   "source": [
    "# Load the documents\n",
    "pages = loader.load()"
   ]
  },
  {
   "cell_type": "code",
   "execution_count": 17,
   "id": "cc951434",
   "metadata": {},
   "outputs": [],
   "source": [
    "# Split the documents using the defined text splitter\n",
    "docs = c_splitter.split_documents(pages)"
   ]
  },
  {
   "cell_type": "code",
   "execution_count": 18,
   "id": "7b33822c",
   "metadata": {},
   "outputs": [],
   "source": [
    "# Get the lengths of pages and docs\n",
    "length_function = len\n",
    "page_length = length_function(pages)\n",
    "docs_length = length_function(docs)"
   ]
  },
  {
   "cell_type": "markdown",
   "id": "27e0914c",
   "metadata": {},
   "source": [
    "# Token splitting"
   ]
  },
  {
   "cell_type": "code",
   "execution_count": 19,
   "id": "f08d8e1f",
   "metadata": {
    "scrolled": true
   },
   "outputs": [],
   "source": [
    " # ! pip install tiktoken"
   ]
  },
  {
   "cell_type": "code",
   "execution_count": 20,
   "id": "0653d6aa",
   "metadata": {},
   "outputs": [],
   "source": [
    "from langchain.text_splitter import TokenTextSplitter"
   ]
  },
  {
   "cell_type": "code",
   "execution_count": 21,
   "id": "6da7195e",
   "metadata": {},
   "outputs": [],
   "source": [
    "# Define your text\n",
    "text1 = \"foo bar bazzyfoo\""
   ]
  },
  {
   "cell_type": "code",
   "execution_count": 22,
   "id": "96c62571",
   "metadata": {},
   "outputs": [],
   "source": [
    "# Initialize TokenTextSplitter with desired parameters\n",
    "text_splitter = TokenTextSplitter(chunk_size=1, chunk_overlap=0)"
   ]
  },
  {
   "cell_type": "code",
   "execution_count": 23,
   "id": "e480b128",
   "metadata": {},
   "outputs": [],
   "source": [
    "# Split the text\n",
    "chunks = text_splitter.split_text(text1)"
   ]
  },
  {
   "cell_type": "code",
   "execution_count": 24,
   "id": "3a7d4764",
   "metadata": {},
   "outputs": [
    {
     "name": "stdout",
     "output_type": "stream",
     "text": [
      "page_content=\"# Blendle's Employee Handbook (1)\\nThis is a living document with everything we've learned working with people while running a startup. And, of course, we continue to learn. Therefore it's a document that will continue to change. \\n**Everything related to working at Blendle and the people of Blendle, made public.**\\nThese are the lessons from three years of working with the people of Blendle. It contains everything from [how our leaders lead](https://www.notion.so/ecfb7e647136468a9a0a32f1771a8f52?pvs=21) to [how we increase salaries](https://www.notion.so/Salary-Review-e11b6161c6d34f5c9568bb3e83ed96b6?pvs=21), from [how we hire](https://www.notion.so/Hiring-451bbcfe8d9b49438c0633326bb7af0a?pvs=21) and [fire](https://www.notion.so/Firing-5567687a2000496b8412e53cd58eed9d?pvs=21) to [how we think people should give each other feedback](https://www.notion.so/Our-Feedback-Process-eb64f1de796b4350aeab3bc068e3801f?pvs=21) — and much more.\" metadata={'source': \"notion\\\\Blendle's Employee Handbook (1) be259e603b0e436590c70bfa9482e4f7.md\"}\n"
     ]
    }
   ],
   "source": [
    "# Access the first document\n",
    "print(docs[0])"
   ]
  },
  {
   "cell_type": "code",
   "execution_count": 25,
   "id": "332dddd8",
   "metadata": {},
   "outputs": [
    {
     "name": "stdout",
     "output_type": "stream",
     "text": [
      "{'source': \"notion\\\\Blendle's Employee Handbook (1) be259e603b0e436590c70bfa9482e4f7.md\"}\n"
     ]
    }
   ],
   "source": [
    "# Assuming `pages` is defined elsewhere and contains multiple texts, you can access metadata of the 10th page like this:\n",
    "print(pages[0].metadata)"
   ]
  },
  {
   "cell_type": "markdown",
   "id": "4e0a9222",
   "metadata": {},
   "source": [
    "# Context aware splitting"
   ]
  },
  {
   "cell_type": "code",
   "execution_count": 26,
   "id": "9124b508",
   "metadata": {},
   "outputs": [],
   "source": [
    "from langchain.document_loaders import NotionDirectoryLoader\n",
    "from langchain.text_splitter import MarkdownHeaderTextSplitter"
   ]
  },
  {
   "cell_type": "code",
   "execution_count": 27,
   "id": "b41a2661",
   "metadata": {},
   "outputs": [],
   "source": [
    "def split_markdown_document(markdown_document, headers_to_split_on):\n",
    "    markdown_splitter = MarkdownHeaderTextSplitter(headers_to_split_on=headers_to_split_on)\n",
    "    return markdown_splitter.split_text(markdown_document)"
   ]
  },
  {
   "cell_type": "code",
   "execution_count": 28,
   "id": "2bc1bef5",
   "metadata": {},
   "outputs": [],
   "source": [
    "# Example usage:\n",
    "markdown_document = \"\"\"# Title\\n\\n \\\n",
    "## Chapter 1\\n\\n \\\n",
    "Hi this is sam\\n\\n  Hi this is ajith\\n\\n \\\n",
    "### Section \\n\\n \\\n",
    "Hi this is vijay \\n\\n \n",
    "## Chapter 2\\n\\n \\\n",
    "Hi this is Molly\"\"\""
   ]
  },
  {
   "cell_type": "code",
   "execution_count": 29,
   "id": "844b2d9c",
   "metadata": {},
   "outputs": [],
   "source": [
    "headers_to_split_on = [\n",
    "    (\"#\", \"Header 1\"),\n",
    "    (\"##\", \"Header 2\"),\n",
    "    (\"###\", \"Header 3\"),\n",
    "]"
   ]
  },
  {
   "cell_type": "code",
   "execution_count": 30,
   "id": "43281627",
   "metadata": {},
   "outputs": [],
   "source": [
    "md_header_splits = split_markdown_document(markdown_document, headers_to_split_on)"
   ]
  },
  {
   "cell_type": "code",
   "execution_count": 31,
   "id": "a518a0f0",
   "metadata": {},
   "outputs": [
    {
     "name": "stdout",
     "output_type": "stream",
     "text": [
      "page_content='Hi this is sam  \\nHi this is ajith' metadata={'Header 1': 'Title', 'Header 2': 'Chapter 1'}\n",
      "page_content='Hi this is vijay' metadata={'Header 1': 'Title', 'Header 2': 'Chapter 1', 'Header 3': 'Section'}\n",
      "page_content='Hi this is Molly' metadata={'Header 1': 'Title', 'Header 2': 'Chapter 2'}\n"
     ]
    }
   ],
   "source": [
    "for split in md_header_splits:\n",
    "    print(split)"
   ]
  }
 ],
 "metadata": {
  "kernelspec": {
   "display_name": "Python 3 (ipykernel)",
   "language": "python",
   "name": "python3"
  },
  "language_info": {
   "codemirror_mode": {
    "name": "ipython",
    "version": 3
   },
   "file_extension": ".py",
   "mimetype": "text/x-python",
   "name": "python",
   "nbconvert_exporter": "python",
   "pygments_lexer": "ipython3",
   "version": "3.11.7"
  }
 },
 "nbformat": 4,
 "nbformat_minor": 5
}
