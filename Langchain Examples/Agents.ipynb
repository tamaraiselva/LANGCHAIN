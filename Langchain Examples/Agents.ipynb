{
 "cells": [
  {
   "cell_type": "markdown",
   "id": "995569e2-88cc-4501-9cee-6931443fbd7f",
   "metadata": {},
   "source": [
    "# Agents"
   ]
  },
  {
   "cell_type": "markdown",
   "id": "cfe95fe2-f2a1-4bed-accb-7532057bf416",
   "metadata": {},
   "source": [
    "# Loading Environment Variable"
   ]
  },
  {
   "cell_type": "code",
   "execution_count": 1,
   "id": "8a6c00e0",
   "metadata": {},
   "outputs": [],
   "source": [
    "# !pip install wikipedia"
   ]
  },
  {
   "cell_type": "code",
   "execution_count": 1,
   "id": "a5dd9651-b6ae-4e4d-a5ae-b051498f2b61",
   "metadata": {},
   "outputs": [],
   "source": [
    "from secret_key import hugging_facehub_key\n",
    "from langchain_community.llms import HuggingFaceHub\n",
    "import os\n",
    "os.environ['HUGGINGFACEHUB_API_TOKEN'] = hugging_facehub_key"
   ]
  },
  {
   "cell_type": "code",
   "execution_count": 2,
   "id": "f40789b5",
   "metadata": {},
   "outputs": [],
   "source": [
    "from langchain.agents.agent_toolkits import create_python_agent\n",
    "from langchain.tools.python.tool import PythonREPLTool\n",
    "from langchain.python import PythonREPL\n",
    "from langchain.llms import HuggingFacePipeline"
   ]
  },
  {
   "cell_type": "code",
   "execution_count": 16,
   "id": "86af77e8",
   "metadata": {},
   "outputs": [
    {
     "ename": "ValidationError",
     "evalue": "1 validation error for LLMChain\nllm\n  Can't instantiate abstract class BaseLanguageModel with abstract methods agenerate_prompt, apredict, apredict_messages, generate_prompt, predict, predict_messages (type=type_error)",
     "output_type": "error",
     "traceback": [
      "\u001b[1;31m---------------------------------------------------------------------------\u001b[0m",
      "\u001b[1;31mValidationError\u001b[0m                           Traceback (most recent call last)",
      "Cell \u001b[1;32mIn[16], line 13\u001b[0m\n\u001b[0;32m      8\u001b[0m llm \u001b[38;5;241m=\u001b[39m HuggingFaceHub(\n\u001b[0;32m      9\u001b[0m     repo_id\u001b[38;5;241m=\u001b[39mrepo_id, model_kwargs\u001b[38;5;241m=\u001b[39m{\u001b[38;5;124m\"\u001b[39m\u001b[38;5;124mtemperature\u001b[39m\u001b[38;5;124m\"\u001b[39m: \u001b[38;5;241m0.5\u001b[39m, \u001b[38;5;124m\"\u001b[39m\u001b[38;5;124mmax_length\u001b[39m\u001b[38;5;124m\"\u001b[39m: \u001b[38;5;241m64\u001b[39m}\n\u001b[0;32m     10\u001b[0m )\n\u001b[0;32m     12\u001b[0m \u001b[38;5;66;03m# Create the agent_executor with the specified max_length\u001b[39;00m\n\u001b[1;32m---> 13\u001b[0m agent_executor \u001b[38;5;241m=\u001b[39m create_python_agent(\n\u001b[0;32m     14\u001b[0m     llm\u001b[38;5;241m=\u001b[39mllm,\n\u001b[0;32m     15\u001b[0m     tool\u001b[38;5;241m=\u001b[39mPythonREPLTool(),\n\u001b[0;32m     16\u001b[0m     verbose\u001b[38;5;241m=\u001b[39m\u001b[38;5;28;01mTrue\u001b[39;00m,\n\u001b[0;32m     17\u001b[0m     agent_executor_kwargs\u001b[38;5;241m=\u001b[39magent_executor_kwargs,\n\u001b[0;32m     18\u001b[0m )\n\u001b[0;32m     20\u001b[0m \u001b[38;5;66;03m# Now, when you call the agent_executor with a prompt, it will use the specified max_length\u001b[39;00m\n\u001b[0;32m     21\u001b[0m agent_executor(\u001b[38;5;124m\"\u001b[39m\u001b[38;5;124mWhat is the 25\u001b[39m\u001b[38;5;132;01m% o\u001b[39;00m\u001b[38;5;124mf 300?\u001b[39m\u001b[38;5;124m\"\u001b[39m)\n",
      "File \u001b[1;32m~\\anaconda3\\Lib\\site-packages\\langchain\\agents\\agent_toolkits\\python\\base.py:26\u001b[0m, in \u001b[0;36mcreate_python_agent\u001b[1;34m(llm, tool, callback_manager, verbose, prefix, agent_executor_kwargs, **kwargs)\u001b[0m\n\u001b[0;32m     24\u001b[0m tools \u001b[38;5;241m=\u001b[39m [tool]\n\u001b[0;32m     25\u001b[0m prompt \u001b[38;5;241m=\u001b[39m ZeroShotAgent\u001b[38;5;241m.\u001b[39mcreate_prompt(tools, prefix\u001b[38;5;241m=\u001b[39mprefix)\n\u001b[1;32m---> 26\u001b[0m llm_chain \u001b[38;5;241m=\u001b[39m LLMChain(\n\u001b[0;32m     27\u001b[0m     llm\u001b[38;5;241m=\u001b[39mllm,\n\u001b[0;32m     28\u001b[0m     prompt\u001b[38;5;241m=\u001b[39mprompt,\n\u001b[0;32m     29\u001b[0m     callback_manager\u001b[38;5;241m=\u001b[39mcallback_manager,\n\u001b[0;32m     30\u001b[0m )\n\u001b[0;32m     31\u001b[0m tool_names \u001b[38;5;241m=\u001b[39m [tool\u001b[38;5;241m.\u001b[39mname \u001b[38;5;28;01mfor\u001b[39;00m tool \u001b[38;5;129;01min\u001b[39;00m tools]\n\u001b[0;32m     32\u001b[0m agent \u001b[38;5;241m=\u001b[39m ZeroShotAgent(llm_chain\u001b[38;5;241m=\u001b[39mllm_chain, allowed_tools\u001b[38;5;241m=\u001b[39mtool_names, \u001b[38;5;241m*\u001b[39m\u001b[38;5;241m*\u001b[39mkwargs)\n",
      "File \u001b[1;32m~\\anaconda3\\Lib\\site-packages\\pydantic\\main.py:341\u001b[0m, in \u001b[0;36mpydantic.main.BaseModel.__init__\u001b[1;34m()\u001b[0m\n",
      "\u001b[1;31mValidationError\u001b[0m: 1 validation error for LLMChain\nllm\n  Can't instantiate abstract class BaseLanguageModel with abstract methods agenerate_prompt, apredict, apredict_messages, generate_prompt, predict, predict_messages (type=type_error)"
     ]
    }
   ],
   "source": [
    "#https://medium.com/@decodingchris/how-to-use-langchain-with-huggingface-e2fd6c971b2b\n",
    "model_path = \"C:\\\\Users\\\\vijay\\\\.cache\\\\huggingface\\\\hub\\\\models--gpt2\\\\snapshots\\\\607a30d783dfa663caf39e06633721c8d4cfcd7e\\\\\"\n",
    "# Set up the Hugging Face pipeline without specifying max_length\n",
    "llm = HuggingFacePipeline.from_model_id(model_id=model_path, task=\"text-generation\")\n",
    "\n",
    "# Create the agent_executor with the specified max_length\n",
    "agent_executor = create_python_agent(\n",
    "    llm=llm,\n",
    "    tool=PythonREPLTool(),\n",
    "    verbose=True,\n",
    "    agent_executor_kwargs=agent_executor_kwargs,\n",
    ")\n",
    "\n",
    "# Now, when you call the agent_executor with a prompt, it will use the specified max_length\n",
    "agent_executor(\"What is the 25% of 300?\")"
   ]
  },
  {
   "cell_type": "code",
   "execution_count": null,
   "id": "66a01642",
   "metadata": {},
   "outputs": [],
   "source": []
  }
 ],
 "metadata": {
  "kernelspec": {
   "display_name": "Python 3 (ipykernel)",
   "language": "python",
   "name": "python3"
  },
  "language_info": {
   "codemirror_mode": {
    "name": "ipython",
    "version": 3
   },
   "file_extension": ".py",
   "mimetype": "text/x-python",
   "name": "python",
   "nbconvert_exporter": "python",
   "pygments_lexer": "ipython3",
   "version": "3.11.5"
  }
 },
 "nbformat": 4,
 "nbformat_minor": 5
}
