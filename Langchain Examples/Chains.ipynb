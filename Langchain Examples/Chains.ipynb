{
 "cells": [
  {
   "cell_type": "markdown",
   "id": "a5b36273-3485-45ed-8a76-f6dbbeeefca5",
   "metadata": {},
   "source": [
    "# Loading Environment Variable"
   ]
  },
  {
   "cell_type": "code",
   "execution_count": 8,
   "id": "4f3fc908-6434-4034-977e-f74f2561d9a5",
   "metadata": {},
   "outputs": [],
   "source": [
    "from secret_key import hugging_facehub_key\n",
    "import os\n",
    "os.environ['HUGGINGFACEHUB_API_TOKEN'] = hugging_facehub_key"
   ]
  },
  {
   "cell_type": "code",
   "execution_count": 22,
   "id": "a7836762-27e8-42c3-a526-ac95bdeda140",
   "metadata": {},
   "outputs": [],
   "source": [
    "repo_id = \"google/flan-t5-large\"  # See https://huggingface.co/models?pipeline_tag=text-generation&sort=downloads for some other options\n",
    "\n",
    "llm = HuggingFaceHub(\n",
    "    repo_id=repo_id, model_kwargs={\"temperature\": 0.5, \"max_length\": 64}\n",
    ")"
   ]
  },
  {
   "cell_type": "markdown",
   "id": "b7a3bfbd-5b7d-4a0f-8cd8-d1b335b2cca7",
   "metadata": {},
   "source": [
    "# LLMChain (Large Language Models)"
   ]
  },
  {
   "cell_type": "code",
   "execution_count": 23,
   "id": "a532749d-270a-4d9a-b600-73ba234d05c1",
   "metadata": {},
   "outputs": [],
   "source": [
    "from langchain import HuggingFaceHub\n",
    "from langchain import PromptTemplate, LLMChain"
   ]
  },
  {
   "cell_type": "code",
   "execution_count": 24,
   "id": "b677b9f3-428c-4eea-a664-73d299083187",
   "metadata": {},
   "outputs": [],
   "source": [
    "article = '''Coinbase, the second-largest crypto exchange by trading volume, released its Q4 2022 earnings on Tuesday, giving shareholders and market players alike an updated look into its financials. In response to the report, the company's shares are down modestly in early after-hours trading.In the fourth quarter of 2022, Coinbase generated \n",
    "2.49 billion in the year-ago quarter. Coin base's top line was not enough to cover its expenses: The company lost \n",
    "2.46 per share, and an adjusted EBITDA deficit of \n",
    "581.2 million in revenue and earnings per share of -\n",
    "201.8 million driven by 8.4 million monthly transaction users (MTUs), according to data provided by Yahoo Finance.Before its Q4 earnings were released, Coinbase's stock had risen 86% year-to-date. Even with that rally, the value of Coinbase when measured on a per-share basis is still down significantly from its 52-week high of \n",
    "26 billion in the third quarter of last year to \n",
    "133 billion to \n",
    "1.5 trillion during 2022, which resulted in Coinbase's total trading volumes and transaction revenues to fall 50% and 66% year-over-year, respectively, the company reported.As you would expect with declines in trading volume, trading revenue at Coinbase fell in Q4 compared to the third quarter of last year, dipping from \n",
    "322.1 million. (TechCrunch is comparing Coinbase's Q4 2022 results to Q3 2022 instead of Q4 2021, as the latter comparison would be less useful given how much the crypto market has changed in the last year; we're all aware that overall crypto activity has fallen from the final months of 2021.)There were bits of good news in the Coinbase report. While Coinbase's trading revenues were less than exuberant, the company's other revenues posted gains. What Coinbase calls its \"subscription and services revenue\" rose from \n",
    "282.8 million in Q4 of the same year, a gain of just over 34% in a single quarter.And even as the crypto industry faced a number of catastrophic events, including the Terra/LUNA and FTX collapses to name a few, there was still growth in other areas. The monthly active developers in crypto have more than doubled since 2020 to over 20,000, while major brands like Starbucks, Nike and Adidas have dived into the space alongside social media platforms like Instagram and Reddit.With big players getting into crypto, industry players are hoping this move results in greater adoption both for product use cases and trading volumes. Although there was a lot of movement from traditional retail markets and Web 2.0 businesses, trading volume for both consumer and institutional users fell quarter-over-quarter for Coinbase.Looking forward, it'll be interesting to see if these pieces pick back up and trading interest reemerges in 2023, or if platforms like Coinbase will have to keep looking elsewhere for revenue (like its subscription service) if users continue to shy away from the market.\n",
    "'''"
   ]
  },
  {
   "cell_type": "code",
   "execution_count": 25,
   "id": "47665751-90d4-4642-ba03-857fdb9009f9",
   "metadata": {},
   "outputs": [
    {
     "data": {
      "text/plain": [
       "2880"
      ]
     },
     "execution_count": 25,
     "metadata": {},
     "output_type": "execute_result"
    }
   ],
   "source": [
    "len(article)"
   ]
  },
  {
   "cell_type": "code",
   "execution_count": 26,
   "id": "4480c992-c568-45c5-a319-ca5d6299d54e",
   "metadata": {},
   "outputs": [],
   "source": [
    "fact_extraction_prompt = PromptTemplate(\n",
    "    input_variables=[\"text_input\"],\n",
    "    template=\"Extract the key facts out of this text. Don't include opinions. Give each fact a number and keep them short sentences. :\\n\\n {text_input}\"\n",
    ")"
   ]
  },
  {
   "cell_type": "code",
   "execution_count": 27,
   "id": "63ad6045-e27e-46ee-ae8c-59e763dc8b83",
   "metadata": {},
   "outputs": [
    {
     "name": "stdout",
     "output_type": "stream",
     "text": [
      "Coinbase, the second-largest crypto exchange by trading volume, released its Q4 2022 earnings on Tuesday. The company's top line was not enough to cover its expenses. The company's shares are down modestly in early after-hours trading.\n"
     ]
    }
   ],
   "source": [
    "fact_extraction_chain = LLMChain(llm=llm, prompt=fact_extraction_prompt)\n",
    "\n",
    "facts = fact_extraction_chain.run(article)\n",
    "\n",
    "print(facts)"
   ]
  },
  {
   "cell_type": "markdown",
   "id": "db80e03b-feb6-4a18-976a-2b076fada782",
   "metadata": {},
   "source": [
    "## Rewrite as a summary from the facts"
   ]
  },
  {
   "cell_type": "code",
   "execution_count": 29,
   "id": "e63cd456-4cc7-4c07-98ab-103718638be0",
   "metadata": {},
   "outputs": [],
   "source": [
    "investor_update_prompt = PromptTemplate(\n",
    "    input_variables=[\"facts\"],\n",
    "    template=\"You are a Goldman Sachs analyst. Take the following list of facts and use them to write a short paragrah for investors. Don't leave out key info:\\n\\n {facts}\"\n",
    ")"
   ]
  },
  {
   "cell_type": "code",
   "execution_count": 30,
   "id": "261cdd5d-fd7b-4c32-b373-7b64197c6cef",
   "metadata": {},
   "outputs": [
    {
     "name": "stdout",
     "output_type": "stream",
     "text": [
      "Coinbase, the second-largest crypto exchange by trading volume, released its Q4 2022 earnings on Tuesday. The company's top line was not enough to cover its expenses. The company's shares are down modestly in early after-hours trading.\n"
     ]
    },
    {
     "data": {
      "text/plain": [
       "235"
      ]
     },
     "execution_count": 30,
     "metadata": {},
     "output_type": "execute_result"
    }
   ],
   "source": [
    "investor_update_chain = LLMChain(llm=llm, prompt=investor_update_prompt)\n",
    "\n",
    "investor_update = investor_update_chain.run(facts)\n",
    "\n",
    "print(investor_update)\n",
    "len(investor_update)"
   ]
  },
  {
   "cell_type": "code",
   "execution_count": 31,
   "id": "6d3262d2-af40-48ec-9770-9ff59e1e080d",
   "metadata": {},
   "outputs": [],
   "source": [
    "triples_prompt = PromptTemplate(\n",
    "    input_variables=[\"facts\"],\n",
    "    template=\"Take the following list of facts and turn them into triples for a knowledge graph:\\n\\n {facts}\"\n",
    ")"
   ]
  },
  {
   "cell_type": "code",
   "execution_count": 32,
   "id": "f2128cfc-0108-4231-866b-fb55e600461d",
   "metadata": {},
   "outputs": [
    {
     "name": "stdout",
     "output_type": "stream",
     "text": [
      "Coinbase Q4 2022 FINANCIAL_SUCCESSION Not enough to cover expenses Coinbase TYPE Crypto exchange Coinbase TYPE Crypto exchange Q4 2022 DAY Tuesday\n"
     ]
    },
    {
     "data": {
      "text/plain": [
       "146"
      ]
     },
     "execution_count": 32,
     "metadata": {},
     "output_type": "execute_result"
    }
   ],
   "source": [
    "triples_chain = LLMChain(llm=llm, prompt=triples_prompt)\n",
    "\n",
    "triples = triples_chain.run(facts)\n",
    "\n",
    "print(triples)\n",
    "len(triples)"
   ]
  },
  {
   "cell_type": "code",
   "execution_count": null,
   "id": "9a216fc6-7f85-426c-8362-76819bcee006",
   "metadata": {},
   "outputs": [],
   "source": []
  }
 ],
 "metadata": {
  "kernelspec": {
   "display_name": "Python 3 (ipykernel)",
   "language": "python",
   "name": "python3"
  },
  "language_info": {
   "codemirror_mode": {
    "name": "ipython",
    "version": 3
   },
   "file_extension": ".py",
   "mimetype": "text/x-python",
   "name": "python",
   "nbconvert_exporter": "python",
   "pygments_lexer": "ipython3",
   "version": "3.11.7"
  }
 },
 "nbformat": 4,
 "nbformat_minor": 5
}
